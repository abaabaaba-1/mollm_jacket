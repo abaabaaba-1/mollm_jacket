{
 "cells": [
  {
   "cell_type": "code",
   "execution_count": 13,
   "id": "ff4ac8a3",
   "metadata": {},
   "outputs": [
    {
     "data": {
      "text/html": [
       "<div>\n",
       "<style scoped>\n",
       "    .dataframe tbody tr th:only-of-type {\n",
       "        vertical-align: middle;\n",
       "    }\n",
       "\n",
       "    .dataframe tbody tr th {\n",
       "        vertical-align: top;\n",
       "    }\n",
       "\n",
       "    .dataframe thead th {\n",
       "        text-align: right;\n",
       "    }\n",
       "</style>\n",
       "<table border=\"1\" class=\"dataframe\">\n",
       "  <thead>\n",
       "    <tr style=\"text-align: right;\">\n",
       "      <th></th>\n",
       "      <th>smiles</th>\n",
       "      <th>logS</th>\n",
       "      <th>logD</th>\n",
       "      <th>logP</th>\n",
       "      <th>mp</th>\n",
       "      <th>bp</th>\n",
       "      <th>pka_acidic</th>\n",
       "      <th>pka_basic</th>\n",
       "      <th>caco2</th>\n",
       "      <th>MDCK</th>\n",
       "      <th>...</th>\n",
       "      <th>NR-AR-LBD</th>\n",
       "      <th>NR-Aromatase</th>\n",
       "      <th>NR-ER</th>\n",
       "      <th>NR-ER-LBD</th>\n",
       "      <th>NR-PPAR-gamma</th>\n",
       "      <th>SR-ARE</th>\n",
       "      <th>SR-ATAD5</th>\n",
       "      <th>SR-HSE</th>\n",
       "      <th>SR-MMP</th>\n",
       "      <th>SR-p53</th>\n",
       "    </tr>\n",
       "  </thead>\n",
       "  <tbody>\n",
       "    <tr>\n",
       "      <th>0</th>\n",
       "      <td>COc1cccc(C(=O)NCC(=O)Nc2ccc(Cl)cc2)c1F</td>\n",
       "      <td>-4.090641</td>\n",
       "      <td>3.103654</td>\n",
       "      <td>2.849263</td>\n",
       "      <td>148.544492</td>\n",
       "      <td>303.601125</td>\n",
       "      <td>9.401930</td>\n",
       "      <td>4.465765</td>\n",
       "      <td>-4.951775</td>\n",
       "      <td>-4.416060</td>\n",
       "      <td>...</td>\n",
       "      <td>0.003801</td>\n",
       "      <td>0.015658</td>\n",
       "      <td>0.176320</td>\n",
       "      <td>7.921009e-04</td>\n",
       "      <td>0.000139</td>\n",
       "      <td>0.761592</td>\n",
       "      <td>0.043558</td>\n",
       "      <td>0.049061</td>\n",
       "      <td>0.286242</td>\n",
       "      <td>0.454666</td>\n",
       "    </tr>\n",
       "    <tr>\n",
       "      <th>1</th>\n",
       "      <td>COc1ccc(C)cc1NC(=O)CN1CCC(=O)Nc2cc(F)ccc21</td>\n",
       "      <td>-3.813338</td>\n",
       "      <td>2.652866</td>\n",
       "      <td>2.373506</td>\n",
       "      <td>134.582721</td>\n",
       "      <td>295.268964</td>\n",
       "      <td>8.611176</td>\n",
       "      <td>5.464709</td>\n",
       "      <td>-4.876806</td>\n",
       "      <td>-4.166696</td>\n",
       "      <td>...</td>\n",
       "      <td>0.000022</td>\n",
       "      <td>0.000024</td>\n",
       "      <td>0.001035</td>\n",
       "      <td>3.815108e-07</td>\n",
       "      <td>0.000001</td>\n",
       "      <td>0.019587</td>\n",
       "      <td>0.000062</td>\n",
       "      <td>0.000849</td>\n",
       "      <td>0.001193</td>\n",
       "      <td>0.000474</td>\n",
       "    </tr>\n",
       "    <tr>\n",
       "      <th>2</th>\n",
       "      <td>Cc1ccc(C)c(S(=O)(=O)NC[C@H]2COc3ccccc3O2)c1</td>\n",
       "      <td>-3.825418</td>\n",
       "      <td>3.468842</td>\n",
       "      <td>3.192425</td>\n",
       "      <td>82.361273</td>\n",
       "      <td>289.406616</td>\n",
       "      <td>9.788216</td>\n",
       "      <td>4.357584</td>\n",
       "      <td>-4.633119</td>\n",
       "      <td>-4.708203</td>\n",
       "      <td>...</td>\n",
       "      <td>0.000109</td>\n",
       "      <td>0.001854</td>\n",
       "      <td>0.008069</td>\n",
       "      <td>7.901445e-05</td>\n",
       "      <td>0.000418</td>\n",
       "      <td>0.297980</td>\n",
       "      <td>0.000011</td>\n",
       "      <td>0.000042</td>\n",
       "      <td>0.003601</td>\n",
       "      <td>0.001347</td>\n",
       "    </tr>\n",
       "    <tr>\n",
       "      <th>3</th>\n",
       "      <td>C[C@@H]1CN(C(=O)Nc2ccc(COC(C)(C)C)cc2)CCO1</td>\n",
       "      <td>-2.912818</td>\n",
       "      <td>2.461299</td>\n",
       "      <td>2.217437</td>\n",
       "      <td>132.922925</td>\n",
       "      <td>281.778352</td>\n",
       "      <td>9.648220</td>\n",
       "      <td>5.616137</td>\n",
       "      <td>-4.875050</td>\n",
       "      <td>-4.733939</td>\n",
       "      <td>...</td>\n",
       "      <td>0.000232</td>\n",
       "      <td>0.138924</td>\n",
       "      <td>0.829401</td>\n",
       "      <td>3.651394e-03</td>\n",
       "      <td>0.000241</td>\n",
       "      <td>0.961520</td>\n",
       "      <td>0.038332</td>\n",
       "      <td>0.067102</td>\n",
       "      <td>0.563777</td>\n",
       "      <td>0.302387</td>\n",
       "    </tr>\n",
       "    <tr>\n",
       "      <th>4</th>\n",
       "      <td>CCc1cc(N2CCC(CC(=O)NC)CC2)n2nc(C)c(C)c2n1</td>\n",
       "      <td>-3.724567</td>\n",
       "      <td>2.910393</td>\n",
       "      <td>3.031362</td>\n",
       "      <td>134.704847</td>\n",
       "      <td>301.987332</td>\n",
       "      <td>9.147232</td>\n",
       "      <td>5.691044</td>\n",
       "      <td>-5.463721</td>\n",
       "      <td>-4.690496</td>\n",
       "      <td>...</td>\n",
       "      <td>0.000061</td>\n",
       "      <td>0.034582</td>\n",
       "      <td>0.018887</td>\n",
       "      <td>3.309093e-04</td>\n",
       "      <td>0.010746</td>\n",
       "      <td>0.039563</td>\n",
       "      <td>0.042644</td>\n",
       "      <td>0.002080</td>\n",
       "      <td>0.000744</td>\n",
       "      <td>0.005411</td>\n",
       "    </tr>\n",
       "  </tbody>\n",
       "</table>\n",
       "<p>5 rows × 78 columns</p>\n",
       "</div>"
      ],
      "text/plain": [
       "                                        smiles      logS      logD      logP  \\\n",
       "0       COc1cccc(C(=O)NCC(=O)Nc2ccc(Cl)cc2)c1F -4.090641  3.103654  2.849263   \n",
       "1   COc1ccc(C)cc1NC(=O)CN1CCC(=O)Nc2cc(F)ccc21 -3.813338  2.652866  2.373506   \n",
       "2  Cc1ccc(C)c(S(=O)(=O)NC[C@H]2COc3ccccc3O2)c1 -3.825418  3.468842  3.192425   \n",
       "3   C[C@@H]1CN(C(=O)Nc2ccc(COC(C)(C)C)cc2)CCO1 -2.912818  2.461299  2.217437   \n",
       "4    CCc1cc(N2CCC(CC(=O)NC)CC2)n2nc(C)c(C)c2n1 -3.724567  2.910393  3.031362   \n",
       "\n",
       "           mp          bp  pka_acidic  pka_basic     caco2      MDCK  ...  \\\n",
       "0  148.544492  303.601125    9.401930   4.465765 -4.951775 -4.416060  ...   \n",
       "1  134.582721  295.268964    8.611176   5.464709 -4.876806 -4.166696  ...   \n",
       "2   82.361273  289.406616    9.788216   4.357584 -4.633119 -4.708203  ...   \n",
       "3  132.922925  281.778352    9.648220   5.616137 -4.875050 -4.733939  ...   \n",
       "4  134.704847  301.987332    9.147232   5.691044 -5.463721 -4.690496  ...   \n",
       "\n",
       "   NR-AR-LBD  NR-Aromatase     NR-ER     NR-ER-LBD  NR-PPAR-gamma    SR-ARE  \\\n",
       "0   0.003801      0.015658  0.176320  7.921009e-04       0.000139  0.761592   \n",
       "1   0.000022      0.000024  0.001035  3.815108e-07       0.000001  0.019587   \n",
       "2   0.000109      0.001854  0.008069  7.901445e-05       0.000418  0.297980   \n",
       "3   0.000232      0.138924  0.829401  3.651394e-03       0.000241  0.961520   \n",
       "4   0.000061      0.034582  0.018887  3.309093e-04       0.010746  0.039563   \n",
       "\n",
       "   SR-ATAD5    SR-HSE    SR-MMP    SR-p53  \n",
       "0  0.043558  0.049061  0.286242  0.454666  \n",
       "1  0.000062  0.000849  0.001193  0.000474  \n",
       "2  0.000011  0.000042  0.003601  0.001347  \n",
       "3  0.038332  0.067102  0.563777  0.302387  \n",
       "4  0.042644  0.002080  0.000744  0.005411  \n",
       "\n",
       "[5 rows x 78 columns]"
      ]
     },
     "execution_count": 13,
     "metadata": {},
     "output_type": "execute_result"
    }
   ],
   "source": [
    "import pandas as pd\n",
    "import numpy as np\n",
    "\n",
    "df = pd.read_csv('/home/hp/src/admet/random1_init.csv')\n",
    "df.head()"
   ]
  },
  {
   "cell_type": "code",
   "execution_count": 14,
   "id": "5e00792a",
   "metadata": {},
   "outputs": [
    {
     "data": {
      "text/plain": [
       "Index(['smiles', 'logS', 'logD', 'logP', 'mp', 'bp', 'pka_acidic', 'pka_basic',\n",
       "       'caco2', 'MDCK', 'PAMPA', 'pgp_inh', 'pgp_sub', 'hia', 'f20', 'f30',\n",
       "       'f50', 'OATP1B1', 'OATP1B3', 'BCRP', 'BSEP', 'BBB', 'MRP1', 'PPB',\n",
       "       'logVDss', 'Fu', 'CYP1A2-inh', 'CYP1A2-sub', 'CYP2C19-inh',\n",
       "       'CYP2C19-sub', 'CYP2C9-inh', 'CYP2C9-sub', 'CYP2D6-inh', 'CYP2D6-sub',\n",
       "       'CYP3A4-inh', 'CYP3A4-sub', 'CYP2B6-inh', 'CYP2B6-sub', 'CYP2C8-inh',\n",
       "       'LM-human', 'cl-plasma', 't0.5', 'BCF', 'IGC50', 'LC50DM', 'LC50FM',\n",
       "       'hERG', 'hERG-10um', 'DILI', 'Ames', 'ROA', 'FDAMDD', 'SkinSen',\n",
       "       'Carcinogenicity', 'EC', 'EI', 'Respiratory', 'H-HT',\n",
       "       'Neurotoxicity-DI', 'Ototoxicity', 'Hematotoxicity',\n",
       "       'Nephrotoxicity-DI', 'Genotoxicity', 'RPMI-8226', 'A549', 'HEK293',\n",
       "       'NR-AhR', 'NR-AR', 'NR-AR-LBD', 'NR-Aromatase', 'NR-ER', 'NR-ER-LBD',\n",
       "       'NR-PPAR-gamma', 'SR-ARE', 'SR-ATAD5', 'SR-HSE', 'SR-MMP', 'SR-p53'],\n",
       "      dtype='object')"
      ]
     },
     "execution_count": 14,
     "metadata": {},
     "output_type": "execute_result"
    }
   ],
   "source": [
    "df.columns"
   ]
  },
  {
   "cell_type": "code",
   "execution_count": 15,
   "id": "73da94e2",
   "metadata": {},
   "outputs": [],
   "source": [
    "selected_cols = ['hia','caco2','pgp_sub','pgp_inh','f30','f50','BBB','PPB','CYP3A4-sub','CYP3A4-inh',\n",
    "                 'CYP2D6-sub','CYP2D6-inh','CYP2C9-sub','CYP2C9-inh','cl-plasma','Ames','hERG','DILI','SkinSen',\n",
    "                 'Carcinogenicity']\n",
    "df = df[selected_cols]\n"
   ]
  },
  {
   "cell_type": "code",
   "execution_count": 16,
   "id": "53bf7e30",
   "metadata": {},
   "outputs": [
    {
     "data": {
      "text/plain": [
       "hia                 0.036374\n",
       "caco2              -5.023733\n",
       "pgp_sub             0.246360\n",
       "pgp_inh             0.458831\n",
       "f30                 0.219853\n",
       "f50                 0.354705\n",
       "BBB                 0.322117\n",
       "PPB                80.242803\n",
       "CYP3A4-sub          0.621094\n",
       "CYP3A4-inh          0.472286\n",
       "CYP2D6-sub          0.238408\n",
       "CYP2D6-inh          0.204477\n",
       "CYP2C9-sub          0.214746\n",
       "CYP2C9-inh          0.467192\n",
       "cl-plasma           5.920272\n",
       "Ames                0.516695\n",
       "hERG                0.330653\n",
       "DILI                0.767022\n",
       "SkinSen             0.693064\n",
       "Carcinogenicity     0.576565\n",
       "dtype: float64"
      ]
     },
     "execution_count": 16,
     "metadata": {},
     "output_type": "execute_result"
    }
   ],
   "source": [
    "df.mean()"
   ]
  },
  {
   "cell_type": "code",
   "execution_count": 50,
   "id": "828b180b",
   "metadata": {},
   "outputs": [
    {
     "data": {
      "text/plain": [
       "4.285884338374141"
      ]
     },
     "execution_count": 50,
     "metadata": {},
     "output_type": "execute_result"
    }
   ],
   "source": [
    "dfs = []\n",
    "num = 8\n",
    "for i in range(5):\n",
    "    df = pd.read_csv(f'/home/hp/src/admet_origin/gpt_4o_{42+i}.csv').drop_duplicates('scores')\n",
    "    df2 = pd.read_csv(f'/home/hp/src/admet/gpt_4o_{42+i}.csv')\n",
    "    df = df.merge(df2,on='smiles')\n",
    "    df = df.sort_values('scores',ascending=False)\n",
    "    dfs.append(df[:8])\n",
    "df = pd.concat(dfs).reset_index(drop=True)\n",
    "df.scores.mean()\n"
   ]
  },
  {
   "cell_type": "code",
   "execution_count": 56,
   "id": "7ce21849",
   "metadata": {},
   "outputs": [],
   "source": [
    "selected_cols = ['hia','caco2','pgp_sub','pgp_inh','f30','f50','BBB','PPB','CYP3A4-inh',\n",
    "                 'CYP2D6-inh','CYP2C9-inh','cl-plasma','Ames','hERG','DILI','SkinSen',\n",
    "                 'Carcinogenicity']\n",
    "df = df[selected_cols]"
   ]
  },
  {
   "cell_type": "code",
   "execution_count": 57,
   "id": "4c4d0b11",
   "metadata": {},
   "outputs": [
    {
     "data": {
      "text/plain": [
       "hia                 0.004989\n",
       "caco2              -4.900766\n",
       "pgp_sub             0.058938\n",
       "pgp_inh             0.171443\n",
       "f30                 0.029739\n",
       "f50                 0.440522\n",
       "BBB                 0.185816\n",
       "PPB                94.337520\n",
       "CYP3A4-inh          0.497923\n",
       "CYP2D6-inh          0.154914\n",
       "CYP2C9-inh          0.464220\n",
       "cl-plasma           5.745066\n",
       "Ames                0.454280\n",
       "hERG                0.441924\n",
       "DILI                0.953443\n",
       "SkinSen             0.418608\n",
       "Carcinogenicity     0.444647\n",
       "dtype: float64"
      ]
     },
     "execution_count": 57,
     "metadata": {},
     "output_type": "execute_result"
    }
   ],
   "source": [
    "dfs = []\n",
    "for i in range(5):\n",
    "    df = pd.read_csv(f'/home/hp/src/admet/{42+i}.csv')\n",
    "    dfs.append(df)\n",
    "df = pd.concat(dfs).reset_index(drop=True)\n",
    "df = df[selected_cols]\n",
    "df.mean()"
   ]
  },
  {
   "cell_type": "code",
   "execution_count": 58,
   "id": "0a1e47f3",
   "metadata": {},
   "outputs": [
    {
     "data": {
      "text/plain": [
       "hia                 0.052537\n",
       "caco2              -4.825244\n",
       "pgp_sub             0.132777\n",
       "pgp_inh             0.528836\n",
       "f30                 0.182670\n",
       "f50                 0.536064\n",
       "BBB                 0.297422\n",
       "PPB                93.622587\n",
       "CYP3A4-inh          0.694619\n",
       "CYP2D6-inh          0.170468\n",
       "CYP2C9-inh          0.741943\n",
       "cl-plasma           5.795530\n",
       "Ames                0.454158\n",
       "hERG                0.314160\n",
       "DILI                0.958033\n",
       "SkinSen             0.395267\n",
       "Carcinogenicity     0.458196\n",
       "dtype: float64"
      ]
     },
     "execution_count": 58,
     "metadata": {},
     "output_type": "execute_result"
    }
   ],
   "source": [
    "dfs = []\n",
    "for i in range(5):\n",
    "    df = pd.read_csv(f'/home/hp/src/admet/genetic_gfn_{42+i}.csv')\n",
    "    dfs.append(df)\n",
    "df = pd.concat(dfs).reset_index(drop=True)\n",
    "df = df[selected_cols]\n",
    "df.mean()"
   ]
  },
  {
   "cell_type": "code",
   "execution_count": 59,
   "id": "5719984f",
   "metadata": {},
   "outputs": [
    {
     "data": {
      "text/plain": [
       "hia                 0.036374\n",
       "caco2              -5.023733\n",
       "pgp_sub             0.246360\n",
       "pgp_inh             0.458831\n",
       "f30                 0.219853\n",
       "f50                 0.354705\n",
       "BBB                 0.322117\n",
       "PPB                80.242803\n",
       "CYP3A4-inh          0.472286\n",
       "CYP2D6-inh          0.204477\n",
       "CYP2C9-inh          0.467192\n",
       "cl-plasma           5.920272\n",
       "Ames                0.516695\n",
       "hERG                0.330653\n",
       "DILI                0.767022\n",
       "SkinSen             0.693064\n",
       "Carcinogenicity     0.576565\n",
       "dtype: float64"
      ]
     },
     "execution_count": 59,
     "metadata": {},
     "output_type": "execute_result"
    }
   ],
   "source": [
    "df = pd.read_csv('/home/hp/src/admet/random1_init.csv')\n",
    "df = df[selected_cols]\n",
    "df.mean()"
   ]
  },
  {
   "cell_type": "code",
   "execution_count": null,
   "id": "1725c47e",
   "metadata": {},
   "outputs": [],
   "source": []
  }
 ],
 "metadata": {
  "kernelspec": {
   "display_name": "ai",
   "language": "python",
   "name": "python3"
  },
  "language_info": {
   "codemirror_mode": {
    "name": "ipython",
    "version": 3
   },
   "file_extension": ".py",
   "mimetype": "text/x-python",
   "name": "python",
   "nbconvert_exporter": "python",
   "pygments_lexer": "ipython3",
   "version": "3.11.11"
  }
 },
 "nbformat": 4,
 "nbformat_minor": 5
}
